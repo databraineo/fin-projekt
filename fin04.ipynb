{
 "cells": [
  {
   "cell_type": "code",
   "execution_count": 1,
   "metadata": {},
   "outputs": [],
   "source": [
    "import pandas as pd\n",
    "import yfinance as yf\n",
    "import tools"
   ]
  },
  {
   "cell_type": "code",
   "execution_count": 5,
   "metadata": {},
   "outputs": [],
   "source": [
    "schema = \"finance\""
   ]
  },
  {
   "cell_type": "code",
   "execution_count": 2,
   "metadata": {},
   "outputs": [],
   "source": [
    "con = tools.connect_postgres(abschnitt=\"azure_postgres_testuser\")"
   ]
  },
  {
   "cell_type": "code",
   "execution_count": 6,
   "metadata": {},
   "outputs": [
    {
     "data": {
      "text/html": [
       "<div>\n",
       "<style scoped>\n",
       "    .dataframe tbody tr th:only-of-type {\n",
       "        vertical-align: middle;\n",
       "    }\n",
       "\n",
       "    .dataframe tbody tr th {\n",
       "        vertical-align: top;\n",
       "    }\n",
       "\n",
       "    .dataframe thead th {\n",
       "        text-align: right;\n",
       "    }\n",
       "</style>\n",
       "<table border=\"1\" class=\"dataframe\">\n",
       "  <thead>\n",
       "    <tr style=\"text-align: right;\">\n",
       "      <th></th>\n",
       "      <th>symbol</th>\n",
       "    </tr>\n",
       "  </thead>\n",
       "  <tbody>\n",
       "    <tr>\n",
       "      <th>0</th>\n",
       "      <td>AAPL</td>\n",
       "    </tr>\n",
       "    <tr>\n",
       "      <th>1</th>\n",
       "      <td>MSFT</td>\n",
       "    </tr>\n",
       "    <tr>\n",
       "      <th>2</th>\n",
       "      <td>AMZN</td>\n",
       "    </tr>\n",
       "    <tr>\n",
       "      <th>3</th>\n",
       "      <td>TSLA</td>\n",
       "    </tr>\n",
       "    <tr>\n",
       "      <th>4</th>\n",
       "      <td>META</td>\n",
       "    </tr>\n",
       "    <tr>\n",
       "      <th>5</th>\n",
       "      <td>SIE.DE</td>\n",
       "    </tr>\n",
       "  </tbody>\n",
       "</table>\n",
       "</div>"
      ],
      "text/plain": [
       "   symbol\n",
       "0    AAPL\n",
       "1    MSFT\n",
       "2    AMZN\n",
       "3    TSLA\n",
       "4    META\n",
       "5  SIE.DE"
      ]
     },
     "execution_count": 6,
     "metadata": {},
     "output_type": "execute_result"
    }
   ],
   "source": [
    "query = f\"select * from {schema}.load_symbols\"\n",
    "df = pd.read_sql(query, con)\n",
    "df"
   ]
  },
  {
   "cell_type": "code",
   "execution_count": 8,
   "metadata": {},
   "outputs": [
    {
     "name": "stdout",
     "output_type": "stream",
     "text": [
      "AAPL\n",
      "Eintrag existiert schon\n",
      "- AAPL: Invalid input - start date cannot be after end date. startDate = 1663970400, endDate = 1663923517\n",
      "MSFT\n",
      "Eintrag existiert schon\n",
      "- MSFT: Invalid input - start date cannot be after end date. startDate = 1663970400, endDate = 1663923522\n",
      "AMZN\n",
      "Eintrag existiert schon\n",
      "- AMZN: Invalid input - start date cannot be after end date. startDate = 1663970400, endDate = 1663923527\n",
      "TSLA\n",
      "Eintrag existiert schon\n",
      "- TSLA: Invalid input - start date cannot be after end date. startDate = 1663970400, endDate = 1663923531\n",
      "META\n",
      "Eintrag existiert schon\n",
      "SIE.DE\n"
     ]
    }
   ],
   "source": [
    "for s in df[\"symbol\"]:\n",
    "    print(s)\n",
    "    t = yf.Ticker(s)\n",
    "    tools.insert_history(con, t)"
   ]
  }
 ],
 "metadata": {
  "kernelspec": {
   "display_name": "Python 3.10.6 ('finance')",
   "language": "python",
   "name": "python3"
  },
  "language_info": {
   "codemirror_mode": {
    "name": "ipython",
    "version": 3
   },
   "file_extension": ".py",
   "mimetype": "text/x-python",
   "name": "python",
   "nbconvert_exporter": "python",
   "pygments_lexer": "ipython3",
   "version": "3.10.6"
  },
  "orig_nbformat": 4,
  "vscode": {
   "interpreter": {
    "hash": "849e9c90f81e3c0d787f36cef1a9506f6e0e8796af51aed5e8d9a7488a88a1c8"
   }
  }
 },
 "nbformat": 4,
 "nbformat_minor": 2
}
