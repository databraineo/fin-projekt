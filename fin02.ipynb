{
 "cells": [
  {
   "cell_type": "code",
   "execution_count": 1,
   "metadata": {},
   "outputs": [],
   "source": [
    "# Achtung: Wird nur einmalig eingelesen\n",
    "# bei Änderungen an tools.py muss ein Neustart des Jupyter Notebooks her\n",
    "import tools    \n",
    "import yfinance as yf\n",
    "import pandas as pd"
   ]
  },
  {
   "cell_type": "code",
   "execution_count": 2,
   "metadata": {},
   "outputs": [],
   "source": [
    "con = tools.connect_postgres(\"azure_postgres\")"
   ]
  },
  {
   "cell_type": "code",
   "execution_count": 5,
   "metadata": {},
   "outputs": [],
   "source": [
    "t = yf.Ticker(\"AMZN\")\n",
    "tools.insert_symbol(con, t)"
   ]
  },
  {
   "cell_type": "code",
   "execution_count": 7,
   "metadata": {},
   "outputs": [
    {
     "data": {
      "text/html": [
       "<div>\n",
       "<style scoped>\n",
       "    .dataframe tbody tr th:only-of-type {\n",
       "        vertical-align: middle;\n",
       "    }\n",
       "\n",
       "    .dataframe tbody tr th {\n",
       "        vertical-align: top;\n",
       "    }\n",
       "\n",
       "    .dataframe thead th {\n",
       "        text-align: right;\n",
       "    }\n",
       "</style>\n",
       "<table border=\"1\" class=\"dataframe\">\n",
       "  <thead>\n",
       "    <tr style=\"text-align: right;\">\n",
       "      <th></th>\n",
       "      <th>Revenue</th>\n",
       "      <th>Earnings</th>\n",
       "    </tr>\n",
       "    <tr>\n",
       "      <th>Quarter</th>\n",
       "      <th></th>\n",
       "      <th></th>\n",
       "    </tr>\n",
       "  </thead>\n",
       "  <tbody>\n",
       "    <tr>\n",
       "      <th>3Q2021</th>\n",
       "      <td>83360000000</td>\n",
       "      <td>20551000000</td>\n",
       "    </tr>\n",
       "    <tr>\n",
       "      <th>4Q2021</th>\n",
       "      <td>123945000000</td>\n",
       "      <td>34630000000</td>\n",
       "    </tr>\n",
       "    <tr>\n",
       "      <th>1Q2022</th>\n",
       "      <td>97278000000</td>\n",
       "      <td>25010000000</td>\n",
       "    </tr>\n",
       "    <tr>\n",
       "      <th>2Q2022</th>\n",
       "      <td>82959000000</td>\n",
       "      <td>19442000000</td>\n",
       "    </tr>\n",
       "  </tbody>\n",
       "</table>\n",
       "</div>"
      ],
      "text/plain": [
       "              Revenue     Earnings\n",
       "Quarter                           \n",
       "3Q2021    83360000000  20551000000\n",
       "4Q2021   123945000000  34630000000\n",
       "1Q2022    97278000000  25010000000\n",
       "2Q2022    82959000000  19442000000"
      ]
     },
     "execution_count": 7,
     "metadata": {},
     "output_type": "execute_result"
    }
   ],
   "source": [
    "t.quarterly_earnings"
   ]
  },
  {
   "cell_type": "code",
   "execution_count": 8,
   "metadata": {},
   "outputs": [
    {
     "data": {
      "text/plain": [
       "4"
      ]
     },
     "execution_count": 8,
     "metadata": {},
     "output_type": "execute_result"
    }
   ],
   "source": [
    "# Tabelle aus Ticker holen\n",
    "df = t.quarterly_earnings\n",
    "# Umformen, damit passend zu SQL-Tabelle\n",
    "symbol = t.info[\"symbol\"]\n",
    "df[\"symbol\"] = symbol\n",
    "df[\"quarter\"] = df.index\n",
    "df[\"quarter\"] = df[\"quarter\"].str[2:] + \"Q\" + df[\"quarter\"].str[0]\n",
    "df = df.rename(columns={\"Revenue\":\"revenue\", \"Earnings\":\"earnings\"})\n",
    "df\n",
    "# in Datenbank hochladen\n",
    "df.to_sql(\"earnings_quarter\", con, \n",
    "    schema=\"finance\", if_exists=\"append\", index=False)"
   ]
  },
  {
   "cell_type": "code",
   "execution_count": 14,
   "metadata": {},
   "outputs": [
    {
     "data": {
      "text/plain": [
       "Quarter\n",
       "3Q2021    2021Q3\n",
       "4Q2021    2021Q4\n",
       "1Q2022    2022Q1\n",
       "2Q2022    2022Q2\n",
       "Name: quarter, dtype: object"
      ]
     },
     "execution_count": 14,
     "metadata": {},
     "output_type": "execute_result"
    }
   ],
   "source": [
    "def insert_earnings_quarter(con, ticker):\n",
    "    # Tabelle aus Ticker holen\n",
    "    df = ticker.quarterly_earnings\n",
    "    # Umformen, damit passend zu SQL-Tabelle\n",
    "    symbol = ticker.info[\"symbol\"]\n",
    "    df[\"symbol\"] = symbol\n",
    "    df[\"quarter\"] = df.index\n",
    "    df[\"quarter\"] = df[\"quarter\"].str[2:] + \"Q\" + df[\"quarter\"].str[0]\n",
    "    df = df.rename(columns={\"Revenue\":\"revenue\", \"Earnings\":\"earnings\"})\n",
    "    # in Datenbank hochladen\n",
    "    df.to_sql(\"earnings_quarter\", con, \n",
    "        schema=\"finance\", if_exists=\"append\", index=False)"
   ]
  },
  {
   "cell_type": "code",
   "execution_count": 15,
   "metadata": {},
   "outputs": [
    {
     "data": {
      "text/html": [
       "<div>\n",
       "<style scoped>\n",
       "    .dataframe tbody tr th:only-of-type {\n",
       "        vertical-align: middle;\n",
       "    }\n",
       "\n",
       "    .dataframe tbody tr th {\n",
       "        vertical-align: top;\n",
       "    }\n",
       "\n",
       "    .dataframe thead th {\n",
       "        text-align: right;\n",
       "    }\n",
       "</style>\n",
       "<table border=\"1\" class=\"dataframe\">\n",
       "  <thead>\n",
       "    <tr style=\"text-align: right;\">\n",
       "      <th></th>\n",
       "      <th>quarter</th>\n",
       "    </tr>\n",
       "  </thead>\n",
       "  <tbody>\n",
       "    <tr>\n",
       "      <th>0</th>\n",
       "      <td>2021Q3</td>\n",
       "    </tr>\n",
       "    <tr>\n",
       "      <th>1</th>\n",
       "      <td>2021Q4</td>\n",
       "    </tr>\n",
       "    <tr>\n",
       "      <th>2</th>\n",
       "      <td>2022Q1</td>\n",
       "    </tr>\n",
       "  </tbody>\n",
       "</table>\n",
       "</div>"
      ],
      "text/plain": [
       "  quarter\n",
       "0  2021Q3\n",
       "1  2021Q4\n",
       "2  2022Q1"
      ]
     },
     "execution_count": 15,
     "metadata": {},
     "output_type": "execute_result"
    }
   ],
   "source": [
    "query = f\"\"\"select quarter from finance.earnings_quarter\n",
    "    where symbol = '{symbol}'\"\"\"\n",
    "df_vorhanden = pd.read_sql(query,con)\n",
    "df_vorhanden\n"
   ]
  },
  {
   "cell_type": "code",
   "execution_count": 17,
   "metadata": {},
   "outputs": [
    {
     "data": {
      "text/html": [
       "<div>\n",
       "<style scoped>\n",
       "    .dataframe tbody tr th:only-of-type {\n",
       "        vertical-align: middle;\n",
       "    }\n",
       "\n",
       "    .dataframe tbody tr th {\n",
       "        vertical-align: top;\n",
       "    }\n",
       "\n",
       "    .dataframe thead th {\n",
       "        text-align: right;\n",
       "    }\n",
       "</style>\n",
       "<table border=\"1\" class=\"dataframe\">\n",
       "  <thead>\n",
       "    <tr style=\"text-align: right;\">\n",
       "      <th></th>\n",
       "      <th>revenue</th>\n",
       "      <th>earnings</th>\n",
       "      <th>symbol</th>\n",
       "      <th>quarter</th>\n",
       "    </tr>\n",
       "    <tr>\n",
       "      <th>Quarter</th>\n",
       "      <th></th>\n",
       "      <th></th>\n",
       "      <th></th>\n",
       "      <th></th>\n",
       "    </tr>\n",
       "  </thead>\n",
       "  <tbody>\n",
       "    <tr>\n",
       "      <th>2Q2022</th>\n",
       "      <td>121234000000</td>\n",
       "      <td>-2028000000</td>\n",
       "      <td>AMZN</td>\n",
       "      <td>2022Q2</td>\n",
       "    </tr>\n",
       "  </tbody>\n",
       "</table>\n",
       "</div>"
      ],
      "text/plain": [
       "              revenue    earnings symbol quarter\n",
       "Quarter                                         \n",
       "2Q2022   121234000000 -2028000000   AMZN  2022Q2"
      ]
     },
     "execution_count": 17,
     "metadata": {},
     "output_type": "execute_result"
    }
   ],
   "source": [
    "df[~df[\"quarter\"].isin(df_vorhanden[\"quarter\"])]"
   ]
  },
  {
   "cell_type": "code",
   "execution_count": 24,
   "metadata": {},
   "outputs": [],
   "source": [
    "def insert_earnings_quarter(con, ticker):\n",
    "    # Tabelle aus Ticker holen\n",
    "    df = ticker.quarterly_earnings\n",
    "    # Symbol in Symbol-Tabelle eintragen (falls noch nicht vorhanden)\n",
    "    tools.insert_symbol(con, t)\n",
    "    # Umformen, damit passend zu SQL-Tabelle\n",
    "    symbol = ticker.info[\"symbol\"]\n",
    "    df[\"symbol\"] = symbol\n",
    "    df[\"quarter\"] = df.index\n",
    "    df[\"quarter\"] = df[\"quarter\"].str[2:] + \"Q\" + df[\"quarter\"].str[0]\n",
    "    df = df.rename(columns={\"Revenue\":\"revenue\", \"Earnings\":\"earnings\"})\n",
    "    # schränke auf die Elemente ein, die noch nicht vorhanden sind\n",
    "    query = f\"\"\"select quarter from finance.earnings_quarter\n",
    "        where symbol = '{symbol}'\"\"\"\n",
    "    df_vorhanden = pd.read_sql(query,con)\n",
    "    df = df[~df[\"quarter\"].isin(df_vorhanden[\"quarter\"])]\n",
    "    # in Datenbank hochladen\n",
    "    df.to_sql(\"earnings_quarter\", con, \n",
    "        schema=\"finance\", if_exists=\"append\", index=False)"
   ]
  },
  {
   "cell_type": "code",
   "execution_count": 20,
   "metadata": {},
   "outputs": [],
   "source": [
    "insert_earnings_quarter(con, t)"
   ]
  },
  {
   "cell_type": "code",
   "execution_count": 3,
   "metadata": {},
   "outputs": [
    {
     "name": "stdout",
     "output_type": "stream",
     "text": [
      "Eintrag existiert schon\n"
     ]
    }
   ],
   "source": [
    "t = yf.Ticker(\"TSLA\")\n",
    "#tools.insert_symbol(con, t)\n",
    "tools.insert_earnings_quarter(con, t)"
   ]
  },
  {
   "cell_type": "code",
   "execution_count": null,
   "metadata": {},
   "outputs": [],
   "source": []
  }
 ],
 "metadata": {
  "kernelspec": {
   "display_name": "Python 3.10.6 ('finance')",
   "language": "python",
   "name": "python3"
  },
  "language_info": {
   "codemirror_mode": {
    "name": "ipython",
    "version": 3
   },
   "file_extension": ".py",
   "mimetype": "text/x-python",
   "name": "python",
   "nbconvert_exporter": "python",
   "pygments_lexer": "ipython3",
   "version": "3.10.6"
  },
  "orig_nbformat": 4,
  "vscode": {
   "interpreter": {
    "hash": "849e9c90f81e3c0d787f36cef1a9506f6e0e8796af51aed5e8d9a7488a88a1c8"
   }
  }
 },
 "nbformat": 4,
 "nbformat_minor": 2
}
