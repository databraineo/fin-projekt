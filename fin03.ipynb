{
 "cells": [
  {
   "cell_type": "code",
   "execution_count": 1,
   "metadata": {},
   "outputs": [],
   "source": [
    "import tools\n",
    "import pandas as pd\n",
    "import yfinance as yf\n",
    "\n",
    "schema = \"testuser\""
   ]
  },
  {
   "cell_type": "code",
   "execution_count": 2,
   "metadata": {},
   "outputs": [],
   "source": [
    "con = tools.connect_postgres(abschnitt=\"azure_postgres\")"
   ]
  },
  {
   "cell_type": "code",
   "execution_count": 3,
   "metadata": {},
   "outputs": [],
   "source": [
    "t = yf.Ticker(\"TSLA\")\n",
    "tools.insert_earnings_quarter(con, t, schema)"
   ]
  },
  {
   "cell_type": "code",
   "execution_count": 4,
   "metadata": {},
   "outputs": [
    {
     "data": {
      "text/html": [
       "<div>\n",
       "<style scoped>\n",
       "    .dataframe tbody tr th:only-of-type {\n",
       "        vertical-align: middle;\n",
       "    }\n",
       "\n",
       "    .dataframe tbody tr th {\n",
       "        vertical-align: top;\n",
       "    }\n",
       "\n",
       "    .dataframe thead th {\n",
       "        text-align: right;\n",
       "    }\n",
       "</style>\n",
       "<table border=\"1\" class=\"dataframe\">\n",
       "  <thead>\n",
       "    <tr style=\"text-align: right;\">\n",
       "      <th></th>\n",
       "      <th>Open</th>\n",
       "      <th>High</th>\n",
       "      <th>Low</th>\n",
       "      <th>Close</th>\n",
       "      <th>Volume</th>\n",
       "      <th>Dividends</th>\n",
       "      <th>Stock Splits</th>\n",
       "    </tr>\n",
       "    <tr>\n",
       "      <th>Date</th>\n",
       "      <th></th>\n",
       "      <th></th>\n",
       "      <th></th>\n",
       "      <th></th>\n",
       "      <th></th>\n",
       "      <th></th>\n",
       "      <th></th>\n",
       "    </tr>\n",
       "  </thead>\n",
       "  <tbody>\n",
       "    <tr>\n",
       "      <th>2022-06-30</th>\n",
       "      <td>224.509995</td>\n",
       "      <td>229.456665</td>\n",
       "      <td>218.863327</td>\n",
       "      <td>224.473328</td>\n",
       "      <td>94600500</td>\n",
       "      <td>0</td>\n",
       "      <td>0.0</td>\n",
       "    </tr>\n",
       "    <tr>\n",
       "      <th>2022-07-01</th>\n",
       "      <td>227.000000</td>\n",
       "      <td>230.229996</td>\n",
       "      <td>222.119995</td>\n",
       "      <td>227.263336</td>\n",
       "      <td>74460300</td>\n",
       "      <td>0</td>\n",
       "      <td>0.0</td>\n",
       "    </tr>\n",
       "    <tr>\n",
       "      <th>2022-07-05</th>\n",
       "      <td>223.000000</td>\n",
       "      <td>233.146667</td>\n",
       "      <td>216.166672</td>\n",
       "      <td>233.066666</td>\n",
       "      <td>84581100</td>\n",
       "      <td>0</td>\n",
       "      <td>0.0</td>\n",
       "    </tr>\n",
       "  </tbody>\n",
       "</table>\n",
       "</div>"
      ],
      "text/plain": [
       "                  Open        High         Low       Close    Volume  \\\n",
       "Date                                                                   \n",
       "2022-06-30  224.509995  229.456665  218.863327  224.473328  94600500   \n",
       "2022-07-01  227.000000  230.229996  222.119995  227.263336  74460300   \n",
       "2022-07-05  223.000000  233.146667  216.166672  233.066666  84581100   \n",
       "\n",
       "            Dividends  Stock Splits  \n",
       "Date                                 \n",
       "2022-06-30          0           0.0  \n",
       "2022-07-01          0           0.0  \n",
       "2022-07-05          0           0.0  "
      ]
     },
     "execution_count": 4,
     "metadata": {},
     "output_type": "execute_result"
    }
   ],
   "source": [
    "df = t.history(start='2022-07-01')\n",
    "df.head(3)"
   ]
  },
  {
   "cell_type": "code",
   "execution_count": 5,
   "metadata": {},
   "outputs": [
    {
     "data": {
      "text/html": [
       "<div>\n",
       "<style scoped>\n",
       "    .dataframe tbody tr th:only-of-type {\n",
       "        vertical-align: middle;\n",
       "    }\n",
       "\n",
       "    .dataframe tbody tr th {\n",
       "        vertical-align: top;\n",
       "    }\n",
       "\n",
       "    .dataframe thead th {\n",
       "        text-align: right;\n",
       "    }\n",
       "</style>\n",
       "<table border=\"1\" class=\"dataframe\">\n",
       "  <thead>\n",
       "    <tr style=\"text-align: right;\">\n",
       "      <th></th>\n",
       "      <th>open</th>\n",
       "      <th>high</th>\n",
       "      <th>low</th>\n",
       "      <th>close</th>\n",
       "      <th>volume</th>\n",
       "      <th>symbol</th>\n",
       "    </tr>\n",
       "    <tr>\n",
       "      <th>Date</th>\n",
       "      <th></th>\n",
       "      <th></th>\n",
       "      <th></th>\n",
       "      <th></th>\n",
       "      <th></th>\n",
       "      <th></th>\n",
       "    </tr>\n",
       "  </thead>\n",
       "  <tbody>\n",
       "    <tr>\n",
       "      <th>2022-06-30</th>\n",
       "      <td>224.509995</td>\n",
       "      <td>229.456665</td>\n",
       "      <td>218.863327</td>\n",
       "      <td>224.473328</td>\n",
       "      <td>94600500</td>\n",
       "      <td>TSLA</td>\n",
       "    </tr>\n",
       "    <tr>\n",
       "      <th>2022-07-01</th>\n",
       "      <td>227.000000</td>\n",
       "      <td>230.229996</td>\n",
       "      <td>222.119995</td>\n",
       "      <td>227.263336</td>\n",
       "      <td>74460300</td>\n",
       "      <td>TSLA</td>\n",
       "    </tr>\n",
       "    <tr>\n",
       "      <th>2022-07-05</th>\n",
       "      <td>223.000000</td>\n",
       "      <td>233.146667</td>\n",
       "      <td>216.166672</td>\n",
       "      <td>233.066666</td>\n",
       "      <td>84581100</td>\n",
       "      <td>TSLA</td>\n",
       "    </tr>\n",
       "  </tbody>\n",
       "</table>\n",
       "</div>"
      ],
      "text/plain": [
       "                  open        high         low       close    volume symbol\n",
       "Date                                                                       \n",
       "2022-06-30  224.509995  229.456665  218.863327  224.473328  94600500   TSLA\n",
       "2022-07-01  227.000000  230.229996  222.119995  227.263336  74460300   TSLA\n",
       "2022-07-05  223.000000  233.146667  216.166672  233.066666  84581100   TSLA"
      ]
     },
     "execution_count": 5,
     "metadata": {},
     "output_type": "execute_result"
    }
   ],
   "source": [
    "df[\"symbol\"] = t.info[\"symbol\"]\n",
    "del df[\"Dividends\"]\n",
    "del df[\"Stock Splits\"]\n",
    "df.head(3)"
   ]
  },
  {
   "cell_type": "code",
   "execution_count": 11,
   "metadata": {},
   "outputs": [
    {
     "data": {
      "text/html": [
       "<div>\n",
       "<style scoped>\n",
       "    .dataframe tbody tr th:only-of-type {\n",
       "        vertical-align: middle;\n",
       "    }\n",
       "\n",
       "    .dataframe tbody tr th {\n",
       "        vertical-align: top;\n",
       "    }\n",
       "\n",
       "    .dataframe thead th {\n",
       "        text-align: right;\n",
       "    }\n",
       "</style>\n",
       "<table border=\"1\" class=\"dataframe\">\n",
       "  <thead>\n",
       "    <tr style=\"text-align: right;\">\n",
       "      <th></th>\n",
       "      <th>date</th>\n",
       "      <th>open</th>\n",
       "      <th>high</th>\n",
       "      <th>low</th>\n",
       "      <th>close</th>\n",
       "      <th>volume</th>\n",
       "      <th>symbol</th>\n",
       "    </tr>\n",
       "  </thead>\n",
       "  <tbody>\n",
       "    <tr>\n",
       "      <th>0</th>\n",
       "      <td>2022-06-30</td>\n",
       "      <td>224.509995</td>\n",
       "      <td>229.456665</td>\n",
       "      <td>218.863327</td>\n",
       "      <td>224.473328</td>\n",
       "      <td>94600500</td>\n",
       "      <td>TSLA</td>\n",
       "    </tr>\n",
       "    <tr>\n",
       "      <th>1</th>\n",
       "      <td>2022-07-01</td>\n",
       "      <td>227.000000</td>\n",
       "      <td>230.229996</td>\n",
       "      <td>222.119995</td>\n",
       "      <td>227.263336</td>\n",
       "      <td>74460300</td>\n",
       "      <td>TSLA</td>\n",
       "    </tr>\n",
       "    <tr>\n",
       "      <th>2</th>\n",
       "      <td>2022-07-05</td>\n",
       "      <td>223.000000</td>\n",
       "      <td>233.146667</td>\n",
       "      <td>216.166672</td>\n",
       "      <td>233.066666</td>\n",
       "      <td>84581100</td>\n",
       "      <td>TSLA</td>\n",
       "    </tr>\n",
       "  </tbody>\n",
       "</table>\n",
       "</div>"
      ],
      "text/plain": [
       "        date        open        high         low       close    volume symbol\n",
       "0 2022-06-30  224.509995  229.456665  218.863327  224.473328  94600500   TSLA\n",
       "1 2022-07-01  227.000000  230.229996  222.119995  227.263336  74460300   TSLA\n",
       "2 2022-07-05  223.000000  233.146667  216.166672  233.066666  84581100   TSLA"
      ]
     },
     "execution_count": 11,
     "metadata": {},
     "output_type": "execute_result"
    }
   ],
   "source": [
    "df = df.reset_index()\n",
    "df.columns = df.columns.str.lower()\n",
    "df.head(3)"
   ]
  },
  {
   "cell_type": "code",
   "execution_count": 15,
   "metadata": {},
   "outputs": [
    {
     "data": {
      "text/plain": [
       "57"
      ]
     },
     "execution_count": 15,
     "metadata": {},
     "output_type": "execute_result"
    }
   ],
   "source": [
    "df.to_sql(\"history\",con=con, schema=\"finance\", if_exists=\"append\", index=False)"
   ]
  },
  {
   "cell_type": "code",
   "execution_count": 11,
   "metadata": {},
   "outputs": [],
   "source": [
    "def insert_history(con, ticker, start=None, schema=\"finance\"):\n",
    "    tools.insert_symbol(con, ticker, schema)\n",
    "    df = ticker.history(start=start)\n",
    "    df[\"symbol\"] = ticker.info[\"symbol\"]\n",
    "    del df[\"Dividends\"]\n",
    "    del df[\"Stock Splits\"]\n",
    "    df = df.reset_index()\n",
    "    df.columns = df.columns.str.lower()\n",
    "    df.to_sql(\"history\",con=con, schema=schema, if_exists=\"append\", index=False)"
   ]
  },
  {
   "cell_type": "code",
   "execution_count": 7,
   "metadata": {},
   "outputs": [],
   "source": [
    "#insert_history(con, t, None, \"testuser\")\n",
    "#insert_history(con, t, None)\n",
    "insert_history(con, t, schema=\"testuser\")"
   ]
  },
  {
   "cell_type": "code",
   "execution_count": null,
   "metadata": {},
   "outputs": [],
   "source": [
    "t = yf.Ticker(\"MSFT\")\n",
    "insert_history(con, t, schema=\"testuser\")"
   ]
  },
  {
   "cell_type": "code",
   "execution_count": 19,
   "metadata": {},
   "outputs": [
    {
     "name": "stdout",
     "output_type": "stream",
     "text": [
      "2022-09-23\n"
     ]
    }
   ],
   "source": [
    "query = f\"\"\"select max(date)+2 from testuser.history h \n",
    "    where symbol = 'MSFT'\"\"\"\n",
    "max_datum = pd.read_sql(query, con).iloc[0,0]\n",
    "print(max_datum)"
   ]
  },
  {
   "cell_type": "code",
   "execution_count": 20,
   "metadata": {},
   "outputs": [
    {
     "name": "stdout",
     "output_type": "stream",
     "text": [
      "- MSFT: Invalid input - start date cannot be after end date. startDate = 1663884000, endDate = 1663837488\n"
     ]
    },
    {
     "data": {
      "text/html": [
       "<div>\n",
       "<style scoped>\n",
       "    .dataframe tbody tr th:only-of-type {\n",
       "        vertical-align: middle;\n",
       "    }\n",
       "\n",
       "    .dataframe tbody tr th {\n",
       "        vertical-align: top;\n",
       "    }\n",
       "\n",
       "    .dataframe thead th {\n",
       "        text-align: right;\n",
       "    }\n",
       "</style>\n",
       "<table border=\"1\" class=\"dataframe\">\n",
       "  <thead>\n",
       "    <tr style=\"text-align: right;\">\n",
       "      <th></th>\n",
       "      <th>Open</th>\n",
       "      <th>High</th>\n",
       "      <th>Low</th>\n",
       "      <th>Close</th>\n",
       "      <th>Adj Close</th>\n",
       "      <th>Volume</th>\n",
       "    </tr>\n",
       "    <tr>\n",
       "      <th>Date</th>\n",
       "      <th></th>\n",
       "      <th></th>\n",
       "      <th></th>\n",
       "      <th></th>\n",
       "      <th></th>\n",
       "      <th></th>\n",
       "    </tr>\n",
       "  </thead>\n",
       "  <tbody>\n",
       "  </tbody>\n",
       "</table>\n",
       "</div>"
      ],
      "text/plain": [
       "Empty DataFrame\n",
       "Columns: [Open, High, Low, Close, Adj Close, Volume]\n",
       "Index: []"
      ]
     },
     "execution_count": 20,
     "metadata": {},
     "output_type": "execute_result"
    }
   ],
   "source": [
    "df = t.history(start=max_datum)\n",
    "df"
   ]
  },
  {
   "cell_type": "code",
   "execution_count": 25,
   "metadata": {},
   "outputs": [
    {
     "name": "stdout",
     "output_type": "stream",
     "text": [
      "2022-09-23\n",
      "2022-09-22\n",
      "False\n"
     ]
    }
   ],
   "source": [
    "import datetime\n",
    "print(max_datum)\n",
    "print(datetime.date.today())\n",
    "print(max_datum <= datetime.date.today())"
   ]
  },
  {
   "cell_type": "code",
   "execution_count": 24,
   "metadata": {},
   "outputs": [],
   "source": [
    "if max_datum <= datetime.date.today():\n",
    "    df = t.history(start=max_datum)\n",
    "    print(df)"
   ]
  },
  {
   "cell_type": "code",
   "execution_count": null,
   "metadata": {},
   "outputs": [],
   "source": [
    "def insert_history(con, ticker, start=None, schema=\"finance\"):\n",
    "    # Symbol in Tabelle symbol schreiben, wenn noch nicht vorhanden\n",
    "    tools.insert_symbol(con, ticker, schema)\n",
    "    # Bestimme das maximale Datum in Tabelle history in der DB\n",
    "    query = f\"\"\"select max(date)+2 from testuser.history h \n",
    "        where symbol = 'MSFT'\"\"\"\n",
    "    max_datum = pd.read_sql(query, con).iloc[0,0]\n",
    "    # Wenn wir neue Werte haben\n",
    "    if max_datum <= datetime.date.today():\n",
    "        df = ticker.history(start=max_datum)\n",
    "        df[\"symbol\"] = ticker.info[\"symbol\"]\n",
    "        del df[\"Dividends\"]\n",
    "        del df[\"Stock Splits\"]\n",
    "        df = df.reset_index()\n",
    "        df.columns = df.columns.str.lower()\n",
    "        df.to_sql(\"history\",con=con, schema=schema, if_exists=\"append\", index=False)"
   ]
  },
  {
   "cell_type": "code",
   "execution_count": 28,
   "metadata": {},
   "outputs": [
    {
     "name": "stdout",
     "output_type": "stream",
     "text": [
      "- MSFT: Invalid input - start date cannot be after end date. startDate = 1663884000, endDate = 1663838192\n"
     ]
    },
    {
     "data": {
      "text/plain": [
       "0"
      ]
     },
     "execution_count": 28,
     "metadata": {},
     "output_type": "execute_result"
    }
   ],
   "source": [
    "df = t.history(start=max_datum)\n",
    "df.shape[0]"
   ]
  },
  {
   "cell_type": "code",
   "execution_count": 30,
   "metadata": {},
   "outputs": [],
   "source": [
    "def insert_history(con, ticker, start=None, schema=\"finance\"):\n",
    "    # Symbol in Tabelle symbol schreiben, wenn noch nicht vorhanden\n",
    "    tools.insert_symbol(con, ticker, schema)\n",
    "    symbol = ticker.info[\"symbol\"]\n",
    "    # Bestimme das maximale Datum in Tabelle history in der DB\n",
    "    # +2, weil die history-Funktion die Daten von einem Tag vorher holt\n",
    "    query = f\"\"\"select max(date)+2 from {schema}.history h \n",
    "        where symbol = '{symbol}'\"\"\"\n",
    "    max_datum = pd.read_sql(query, con).iloc[0,0]\n",
    "    df = ticker.history(start=max_datum)\n",
    "    # Wenn die Zeilenanzahl größer als 0\n",
    "    if df.shape[0] > 0:\n",
    "        df[\"symbol\"] = symbol\n",
    "        del df[\"Dividends\"]\n",
    "        del df[\"Stock Splits\"]\n",
    "        df = df.reset_index()\n",
    "        df.columns = df.columns.str.lower()\n",
    "        df.to_sql(\"history\",con=con, schema=schema, if_exists=\"append\", index=False)"
   ]
  },
  {
   "cell_type": "code",
   "execution_count": 32,
   "metadata": {},
   "outputs": [
    {
     "name": "stdout",
     "output_type": "stream",
     "text": [
      "Eintrag existiert schon\n"
     ]
    }
   ],
   "source": [
    "insert_history(con, t, schema=\"testuser\")"
   ]
  },
  {
   "cell_type": "code",
   "execution_count": null,
   "metadata": {},
   "outputs": [],
   "source": []
  }
 ],
 "metadata": {
  "kernelspec": {
   "display_name": "Python 3.10.6 ('finance')",
   "language": "python",
   "name": "python3"
  },
  "language_info": {
   "codemirror_mode": {
    "name": "ipython",
    "version": 3
   },
   "file_extension": ".py",
   "mimetype": "text/x-python",
   "name": "python",
   "nbconvert_exporter": "python",
   "pygments_lexer": "ipython3",
   "version": "3.10.6"
  },
  "orig_nbformat": 4,
  "vscode": {
   "interpreter": {
    "hash": "849e9c90f81e3c0d787f36cef1a9506f6e0e8796af51aed5e8d9a7488a88a1c8"
   }
  }
 },
 "nbformat": 4,
 "nbformat_minor": 2
}
